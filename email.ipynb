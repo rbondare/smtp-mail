{
  "nbformat": 4,
  "nbformat_minor": 0,
  "metadata": {
    "colab": {
      "provenance": []
    },
    "kernelspec": {
      "name": "python3",
      "display_name": "Python 3"
    },
    "language_info": {
      "name": "python"
    }
  },
  "cells": [
    {
      "cell_type": "markdown",
      "source": [
        "## importing libraries"
      ],
      "metadata": {
        "id": "KsWLO-_wj4AQ"
      }
    },
    {
      "cell_type": "code",
      "source": [
        "import smtplib\n",
        "import ssl\n",
        "from email.mime.text import MIMEText\n",
        "from email.mime.multipart import MIMEMultipart\n",
        "import csv"
      ],
      "metadata": {
        "id": "hcpuwMR95wKA"
      },
      "execution_count": 60,
      "outputs": []
    },
    {
      "cell_type": "markdown",
      "source": [
        "## Communication with Google SMTP server"
      ],
      "metadata": {
        "id": "tShdELblj8Rn"
      }
    },
    {
      "cell_type": "code",
      "source": [
        "import smtplib\n",
        "import ssl\n",
        "from email.mime.text import MIMEText\n",
        "from email.mime.multipart import MIMEMultipart\n",
        "\n",
        "# Initializing an Email object with a username and password\n",
        "\n",
        "class Email:\n",
        "  def __init__(self,username,password):\n",
        "    self.username = username # Store username as an instance variable\n",
        "    self.password = password # Store password as an instance variable\n",
        "\n",
        "# Define function send email\n",
        "  def send_email(self, sender_email, receiver_email,subject, body):\n",
        "    #Use google's smtp mail server and standart port to send email message\n",
        "\n",
        "    smtp_server = 'smtp.gmail.com'\n",
        "    smtp_port = 465\n",
        "    username = \"your email\"\n",
        "    password = \"123456\"\n",
        "\n",
        "    # Create a MIMEMultipart message\n",
        "\n",
        "    msg = MIMEMultipart()\n",
        "    msg['From'] = sender_email\n",
        "    msg['To'] = receiver_email\n",
        "    msg['Subject'] = subject\n",
        "\n",
        "    msg.attach(MIMEText(body, 'plain'))\n",
        "\n",
        "    # Initiate a TLS-encrypted connection. The default context of ssl validates\n",
        "    # the host name and its certificates and optimizes the security of the connection\n",
        "\n",
        "    context = ssl.create_default_context()\n",
        "\n",
        "    # Try to log in to server and send email\n",
        "\n",
        "    try:\n",
        "        with smtplib.SMTP_SSL(smtp_server, smtp_port, context=context) as smtp:\n",
        "            smtp.login(username, password)\n",
        "\n",
        "            # Send the email\n",
        "            smtp.send_message(msg)\n",
        "            print('Email sent successfully.')\n",
        "\n",
        "    except Exception as e:\n",
        "        print(f'Error: {e}')\n",
        "\n",
        "    #note :\n",
        "\n",
        "    #two step verification on need to check up\n",
        "    #first go to mail manage setting\n",
        "    #then we go to sequrity\n",
        "    #then check two step setting"
      ],
      "metadata": {
        "id": "ajSfaw6m9mAV"
      },
      "execution_count": 61,
      "outputs": []
    },
    {
      "cell_type": "markdown",
      "source": [
        "## Reading receipt email, subject, body, and ... from a csv file and sending the emails"
      ],
      "metadata": {
        "id": "z0u1ZwnPkBHQ"
      }
    },
    {
      "cell_type": "code",
      "source": [
        "#Compose message using personalised data from CSV file\n",
        "compose_message = lambda name_parent, name_child, subject_course: f\"\"\"Dear {name_parent},\n",
        "Hello! ... {name_child}'s {subject_course} ... \"\"\"\n",
        "\n",
        "# Send multiple personalized emails using a CSV file with contact data\n",
        "\n",
        "#define number of contacts in the CSV file\n",
        "num_rows = 7\n",
        "\n",
        "with open(\"filename.csv\", newline='') as csvfile:\n",
        "    reader = csv.reader(csvfile, delimiter=',')\n",
        "    next(reader, None) #skip header\n",
        "    for indx, row in enumerate(islice(reader, num_rows)):\n",
        "        recipient_name = row[0]\n",
        "        student_name = row[1]\n",
        "        subject = row[2]\n",
        "        recipient_email = row[3]\n",
        "        email_body = compose_message(recipient_name, student_name, subject)\n",
        "        #email1.send_email(recipient_email, subject_email, email_body)"
      ],
      "metadata": {
        "id": "l6WAtQqTWV41"
      },
      "execution_count": 58,
      "outputs": []
    }
  ]
}